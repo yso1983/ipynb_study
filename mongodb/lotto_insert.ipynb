{
 "cells": [
  {
   "cell_type": "code",
   "execution_count": 50,
   "metadata": {},
   "outputs": [],
   "source": [
    "import pymongo\n",
    "import requests \n",
    "import json \n",
    "\n",
    "myclient = pymongo.MongoClient(\"mongodb://localhost:27017/\",\n",
    "                  username='yso1983',\n",
    "                 password='123456')\n",
    "\n",
    "mydb = myclient[\"lotto\"]\n",
    "\n",
    "mycol = mydb[\"lotto_info\"]\n",
    "\n",
    "#mycol.drop()"
   ]
  },
  {
   "cell_type": "code",
   "execution_count": 53,
   "metadata": {},
   "outputs": [],
   "source": [
    "stop = True\n",
    "\n",
    "def setLottoWinInfo(drwNo):\n",
    "    global stop\n",
    "    try:\n",
    "        if mycol.count_documents({'drwNo': drwNo}) == 0:\n",
    "            req_url = \"https://www.dhlottery.co.kr/common.do?method=getLottoNumber&drwNo=\" + str(drwNo) \n",
    "            req_lotto = requests.get(req_url) \n",
    "            lottoNo = req_lotto.json() \n",
    "            if lottoNo['returnValue'] == 'success': \n",
    "                #당첨횟차를 인덱스로 만든다\n",
    "                mycol.insert_one(lottoNo)\n",
    "            else: \n",
    "                stop = False\n",
    "    except:\n",
    "        stop = False\n",
    "i = 1\n",
    "while stop:\n",
    "  setLottoWinInfo(i)\n",
    "  i += 1"
   ]
  },
  {
   "cell_type": "code",
   "execution_count": 48,
   "metadata": {},
   "outputs": [
    {
     "data": {
      "text/plain": [
       "False"
      ]
     },
     "execution_count": 48,
     "metadata": {},
     "output_type": "execute_result"
    }
   ],
   "source": [
    "type(mycol.find({ \"_id\": str(object_id_from_int(2))}))\n",
    "mycol.count_documents({'drwNo': 2}) == 0\n",
    "#print(object_id_from_int(1))"
   ]
  },
  {
   "cell_type": "code",
   "execution_count": 54,
   "metadata": {},
   "outputs": [
    {
     "name": "stdout",
     "output_type": "stream",
     "text": [
      "{'_id': ObjectId('606677a7e78b4fe05e423af4'), 'totSellamnt': 97065255000, 'returnValue': 'success', 'drwNoDate': '2021-03-27', 'firstWinamnt': 2022982671, 'drwtNo6': 41, 'drwtNo4': 21, 'firstPrzwnerCo': 11, 'drwtNo5': 25, 'bnusNo': 40, 'firstAccumamnt': 22252809381, 'drwNo': 956, 'drwtNo2': 11, 'drwtNo3': 20, 'drwtNo1': 10}\n"
     ]
    }
   ],
   "source": [
    "for x in mycol.find().sort('drwNo', -1).limit(1):\n",
    "    print(x)"
   ]
  },
  {
   "cell_type": "code",
   "execution_count": null,
   "metadata": {},
   "outputs": [],
   "source": []
  }
 ],
 "metadata": {
  "kernelspec": {
   "display_name": "Python 3",
   "language": "python",
   "name": "python3"
  },
  "language_info": {
   "codemirror_mode": {
    "name": "ipython",
    "version": 3
   },
   "file_extension": ".py",
   "mimetype": "text/x-python",
   "name": "python",
   "nbconvert_exporter": "python",
   "pygments_lexer": "ipython3",
   "version": "3.8.5"
  }
 },
 "nbformat": 4,
 "nbformat_minor": 4
}
