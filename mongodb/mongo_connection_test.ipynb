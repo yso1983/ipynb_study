{
 "cells": [
  {
   "cell_type": "code",
   "execution_count": 55,
   "metadata": {},
   "outputs": [],
   "source": [
    "import pymongo\n",
    "\n",
    "myclient = pymongo.MongoClient(\"mongodb://localhost:27017/\",\n",
    "                  username='yso1983',\n",
    "                 password='123456')\n",
    "\n",
    "mydb = myclient[\"lotto\"]\n",
    "\n",
    "mycol = mydb[\"lotto_info\"]\n",
    "mycol.drop()"
   ]
  },
  {
   "cell_type": "code",
   "execution_count": 54,
   "metadata": {},
   "outputs": [
    {
     "data": {
      "text/plain": [
       "<pymongo.results.InsertOneResult at 0x7fc07004d880>"
      ]
     },
     "execution_count": 54,
     "metadata": {},
     "output_type": "execute_result"
    }
   ],
   "source": [
    "mydict = { \"_id\": \"000000000000000000000001\", \"name\": \"john\", \"address\": \"Highway 39\" }\n",
    "mycol.insert_one(mydict)"
   ]
  },
  {
   "cell_type": "code",
   "execution_count": 61,
   "metadata": {},
   "outputs": [],
   "source": [
    "bool(mycol.find_one({},{ \"_id\": 0}))\n",
    "mycol.find_one()"
   ]
  },
  {
   "cell_type": "code",
   "execution_count": 63,
   "metadata": {},
   "outputs": [
    {
     "name": "stdout",
     "output_type": "stream",
     "text": [
      "{'_id': ObjectId('606677a7e78b4fe05e423af4'), 'totSellamnt': 97065255000, 'returnValue': 'success', 'drwNoDate': '2021-03-27', 'firstWinamnt': 2022982671, 'drwtNo6': 41, 'drwtNo4': 21, 'firstPrzwnerCo': 11, 'drwtNo5': 25, 'bnusNo': 40, 'firstAccumamnt': 22252809381, 'drwNo': 956, 'drwtNo2': 11, 'drwtNo3': 20, 'drwtNo1': 10}\n"
     ]
    }
   ],
   "source": [
    "#from bson.objectid import ObjectId\n",
    "for x in mycol.find().sort('drwNo', -1).limit(1):\n",
    "    print(x)\n",
    "#print(mycol.find_one({\"_id\": '000000000000000000000001'}))\n"
   ]
  },
  {
   "cell_type": "code",
   "execution_count": 59,
   "metadata": {},
   "outputs": [
    {
     "name": "stdout",
     "output_type": "stream",
     "text": [
      "000000000000000000012345\n",
      "12345\n"
     ]
    }
   ],
   "source": [
    "import bson\n",
    "\n",
    "def object_id_from_int(n):\n",
    "    s = str(n)\n",
    "    s = '0' * (24 - len(s)) + s\n",
    "    return bson.ObjectId(s)\n",
    "\n",
    "def int_from_object_id(obj):\n",
    "    return int(str(obj))\n",
    "\n",
    "n = 12345\n",
    "obj = object_id_from_int(n)\n",
    "n = int_from_object_id(obj)\n",
    "print(str(obj))  # ObjectId('000000000000000000012345')\n",
    "print(n)  # 12345"
   ]
  },
  {
   "cell_type": "code",
   "execution_count": 60,
   "metadata": {},
   "outputs": [],
   "source": [
    "myclient.close()"
   ]
  },
  {
   "cell_type": "code",
   "execution_count": null,
   "metadata": {},
   "outputs": [],
   "source": []
  }
 ],
 "metadata": {
  "kernelspec": {
   "display_name": "Python 3",
   "language": "python",
   "name": "python3"
  },
  "language_info": {
   "codemirror_mode": {
    "name": "ipython",
    "version": 3
   },
   "file_extension": ".py",
   "mimetype": "text/x-python",
   "name": "python",
   "nbconvert_exporter": "python",
   "pygments_lexer": "ipython3",
   "version": "3.8.5"
  }
 },
 "nbformat": 4,
 "nbformat_minor": 4
}
