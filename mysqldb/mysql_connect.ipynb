{
 "cells": [
  {
   "cell_type": "code",
   "execution_count": 3,
   "metadata": {},
   "outputs": [],
   "source": [
    "import mysql.connector\n",
    "\n",
    "mydb = mysql.connector.connect(\n",
    "  host=\"127.0.0.1\",\n",
    "  user=\"yso1983\",\n",
    "  passwd=\"123456\",\n",
    "  database=\"lotto\",\n",
    "  auth_plugin='mysql_native_password'\n",
    ")\n",
    "\n",
    "#mycursor = mydb.cursor()\n",
    "\n",
    "#mycursor.execute(\"SELECT * FROM lotto_info\")\n",
    "\n",
    "#myresult = mycursor.fetchall()\n",
    "\n",
    "#for x in myresult:\n",
    "#  print(x)\n",
    "\n",
    "#mydb.close()\n",
    "\n",
    "def addSingleData(val):\n",
    "    sql = \"\"\"insert into lotto_info(drwNo , drwtNo1 , drwtNo2 , drwtNo3 , drwtNo4 \n",
    "     , drwtNo5, drwtNo6 , bnusNo , totSellamnt , firstAccumamnt , firstPrzwnerCo , firstWinamnt, drwNoDate ) \n",
    "     values(%s, %s, %s, %s, %s, %s, %s, %s, %s, %s, %s, %s, %s )\"\"\"\n",
    "    \n",
    "    mycursor = mydb.cursor()\n",
    "    \n",
    "    mycursor.execute(sql, val)\n",
    "\n",
    "    mydb.commit()\n",
    "\n",
    "def addData(val):\n",
    "    sql = \"\"\"insert into lotto_info(drwNo , drwtNo1 , drwtNo2 , drwtNo3 , drwtNo4 \n",
    "     , drwtNo5, drwtNo6 , bnusNo , totSellamnt , firstAccumamnt , firstPrzwnerCo , firstWinamnt, drwNoDate ) \n",
    "     values(%s, %s, %s, %s, %s, %s, %s, %s, %s, %s, %s, %s, %s )\"\"\"\n",
    "    \n",
    "    mycursor = mydb.cursor()\n",
    "    \n",
    "    mycursor.executemany(sql, val)\n",
    "\n",
    "    mydb.commit()\n",
    "    \n",
    "def getSingleData(val):\n",
    "    sql = \"SELECT * FROM lotto_info WHERE drwNo = %s LIMIT 1;\"\n",
    "    adr = (val, )\n",
    "    mycursor = mydb.cursor()\n",
    "    mycursor.execute(sql, adr)\n",
    "\n",
    "    myresult = mycursor.fetchall()\n",
    "\n",
    "    for x in myresult:\n",
    "      print(x)\n",
    "\n",
    "#val = [(1, 1, 2, 3, 4, 5, 6, 7, 100, 10, 2, 10, \"2012-10-03\")]\n",
    "    \n",
    "#addData(val)\n"
   ]
  },
  {
   "cell_type": "code",
   "execution_count": 1,
   "metadata": {},
   "outputs": [],
   "source": []
  },
  {
   "cell_type": "code",
   "execution_count": null,
   "metadata": {},
   "outputs": [],
   "source": []
  }
 ],
 "metadata": {
  "kernelspec": {
   "display_name": "Python 3",
   "language": "python",
   "name": "python3"
  },
  "language_info": {
   "codemirror_mode": {
    "name": "ipython",
    "version": 3
   },
   "file_extension": ".py",
   "mimetype": "text/x-python",
   "name": "python",
   "nbconvert_exporter": "python",
   "pygments_lexer": "ipython3",
   "version": "3.8.5"
  }
 },
 "nbformat": 4,
 "nbformat_minor": 4
}
