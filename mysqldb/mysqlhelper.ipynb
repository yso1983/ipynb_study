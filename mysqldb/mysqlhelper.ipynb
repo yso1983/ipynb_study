{
 "cells": [
  {
   "cell_type": "code",
   "execution_count": 5,
   "metadata": {},
   "outputs": [],
   "source": [
    "import mysql.connector\n",
    "\n",
    "class dbhelper:\n",
    "    def __init__(self, host, user, passwd, database):\n",
    "        self.mydb = mysql.connector.connect(\n",
    "          host=host,\n",
    "          user=user,\n",
    "          passwd=passwd,\n",
    "          database=database,\n",
    "          auth_plugin='mysql_native_password'\n",
    "        )\n",
    "\n",
    "    def addSingleData(self, sql, val):\n",
    "        mycursor = self.mydb.cursor()\n",
    "        mycursor.execute(sql, val)\n",
    "        self.mydb.commit()\n",
    "        \n",
    "    def addData(self, sql, val):\n",
    "        mycursor = self.mydb.cursor()\n",
    "        mycursor.executemany(sql, val)\n",
    "        self.mydb.commit()\n",
    "    \n",
    "    def getData(self, sql, val = None, dic = False):\n",
    "        if val != None:\n",
    "            adr = (val, )\n",
    "            mycursor = self.mydb.cursor(dictionary=dic)\n",
    "            mycursor.execute(sql, adr)\n",
    "            myresult = mycursor.fetchall()\n",
    "            return myresult\n",
    "        else:\n",
    "            mycursor = self.mydb.cursor(dictionary=dic)\n",
    "            mycursor.execute(sql)\n",
    "            myresult = mycursor.fetchall()\n",
    "            return myresult\n",
    "        \n",
    "    def close(self):\n",
    "        self.mydb.cursor().close()\n",
    "        self.mydb.close()\n",
    "\n",
    "\n",
    "#val = [(1, 1, 2, 3, 4, 5, 6, 7, 100, 10, 2, 10, \"2012-10-03\")]\n",
    "    \n",
    "#addData(val)\n"
   ]
  },
  {
   "cell_type": "code",
   "execution_count": 9,
   "metadata": {
    "scrolled": true
   },
   "outputs": [
    {
     "name": "stdout",
     "output_type": "stream",
     "text": [
      "[(1, 10, 23, 29, 33, 37, 40, 16, 3681782000, 863604600, 0, 0, datetime.date(2002, 12, 7)), (2, 9, 13, 21, 25, 32, 42, 2, 4904274000, 0, 1, 2002006800, datetime.date(2002, 12, 14))]\n"
     ]
    }
   ],
   "source": [
    "a = dbhelper('127.0.0.1', 'yso1983', '123456', 'lotto').getData( \"SELECT * FROM lotto_info LIMIT 2;\")\n",
    "print(a)\n",
    "#type(a) #list"
   ]
  },
  {
   "cell_type": "code",
   "execution_count": 29,
   "metadata": {},
   "outputs": [],
   "source": [
    "dbhelper('127.0.0.1', 'yso1983', '123456', 'lotto').close()"
   ]
  }
 ],
 "metadata": {
  "kernelspec": {
   "display_name": "Python 3",
   "language": "python",
   "name": "python3"
  },
  "language_info": {
   "codemirror_mode": {
    "name": "ipython",
    "version": 3
   },
   "file_extension": ".py",
   "mimetype": "text/x-python",
   "name": "python",
   "nbconvert_exporter": "python",
   "pygments_lexer": "ipython3",
   "version": "3.8.5"
  }
 },
 "nbformat": 4,
 "nbformat_minor": 4
}
