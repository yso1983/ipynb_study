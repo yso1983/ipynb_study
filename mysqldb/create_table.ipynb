{
 "cells": [
  {
   "cell_type": "code",
   "execution_count": 1,
   "metadata": {},
   "outputs": [],
   "source": [
    "import mysql.connector\n",
    "\n",
    "mydb = mysql.connector.connect(\n",
    "  host=\"127.0.0.1\",\n",
    "  user=\"yso1983\",\n",
    "  passwd=\"123456\",\n",
    "  database=\"lotto\",\n",
    "  auth_plugin='mysql_native_password'\n",
    ")\n",
    "\n",
    "mycursor = mydb.cursor()\n",
    "\n",
    "mycursor.execute(\"CREATE TABLE lotto_info (drwNo int, drwtNo1 tinyint, drwtNo2 tinyint, drwtNo3 tinyint, \" \n",
    "                 + \" drwtNo4 tinyint, drwtNo5 tinyint, drwtNo6 tinyint, bnusNo tinyint, \" \n",
    "                 + \" totSellamnt bigint, firstAccumamnt bigint, firstPrzwnerCo int, firstWinamnt bigint, drwNoDate date )\")"
   ]
  }
 ],
 "metadata": {
  "kernelspec": {
   "display_name": "Python 3",
   "language": "python",
   "name": "python3"
  },
  "language_info": {
   "codemirror_mode": {
    "name": "ipython",
    "version": 3
   },
   "file_extension": ".py",
   "mimetype": "text/x-python",
   "name": "python",
   "nbconvert_exporter": "python",
   "pygments_lexer": "ipython3",
   "version": "3.8.5"
  }
 },
 "nbformat": 4,
 "nbformat_minor": 4
}
