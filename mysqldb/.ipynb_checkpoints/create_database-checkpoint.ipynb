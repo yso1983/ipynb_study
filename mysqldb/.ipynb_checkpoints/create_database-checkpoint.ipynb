{
 "cells": [
  {
   "cell_type": "code",
   "execution_count": 10,
   "metadata": {},
   "outputs": [],
   "source": [
    "#import mysql.connector as mysqldb\n",
    "\n",
    "#mydb = mysqldb.connect(\n",
    "#  host=\"127.0.0.1\",\n",
    "#  user=\"yso1983\",\n",
    "#  passwd=\"123456\",\n",
    "#  auth_plugin='mysql_native_password'\n",
    "#)\n",
    "\n",
    "#mycursor = mydb.cursor()\n",
    "\n",
    "#mycursor.execute(\"CREATE DATABASE lotto\")\n"
   ]
  },
  {
   "cell_type": "code",
   "execution_count": null,
   "metadata": {},
   "outputs": [],
   "source": []
  }
 ],
 "metadata": {
  "kernelspec": {
   "display_name": "Python 3",
   "language": "python",
   "name": "python3"
  },
  "language_info": {
   "codemirror_mode": {
    "name": "ipython",
    "version": 3
   },
   "file_extension": ".py",
   "mimetype": "text/x-python",
   "name": "python",
   "nbconvert_exporter": "python",
   "pygments_lexer": "ipython3",
   "version": "3.8.5"
  }
 },
 "nbformat": 4,
 "nbformat_minor": 4
}
