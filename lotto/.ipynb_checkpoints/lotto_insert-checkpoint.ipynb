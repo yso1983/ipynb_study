{
 "cells": [
  {
   "cell_type": "code",
   "execution_count": 39,
   "metadata": {},
   "outputs": [
    {
     "name": "stdout",
     "output_type": "stream",
     "text": [
      "완료\n"
     ]
    }
   ],
   "source": [
    "# parent 폴더 경로 추가\n",
    "import os\n",
    "import sys\n",
    "nb_dir = os.path.split(os.getcwd())[0]\n",
    "if nb_dir not in sys.path:\n",
    "    sys.path.append(nb_dir)\n",
    "\n",
    "# .py 파일이 아닌 .ipynb 파일 접근하는 모듈\n",
    "import import_ipynb \n",
    "\n",
    "# name 못찾을경우 pip3 uninstall pyzmq 후 재 설치 pip3 install pyzmq\n",
    "from mysqldb.mysqlhelper import *\n",
    "\n",
    "import requests \n",
    "import json \n",
    "\n",
    "#DB 연결\n",
    "helper = dbhelper('127.0.0.1', 'yso1983', '123456', 'lotto')\n",
    "\n",
    "#테스트 조회\n",
    "#helper.getData(\"SELECT * FROM lotto_info WHERE drwNo = %s LIMIT 1;\", 1)\n",
    "sql = \"\"\"insert into lotto_info(drwNo , drwtNo1 , drwtNo2 , drwtNo3 , drwtNo4 \n",
    "     , drwtNo5, drwtNo6 , bnusNo , totSellamnt , firstAccumamnt , firstPrzwnerCo , firstWinamnt, drwNoDate ) \n",
    "     values(%s, %s, %s, %s, %s, %s, %s, %s, %s, %s, %s, %s, %s )\"\"\"\n",
    "\n",
    "def setLottoWinInfo(drwNo):\n",
    "    if len(helper.getData(\"SELECT * FROM lotto_info WHERE drwNo = %s LIMIT 1;\", drwNo)) == 0:\n",
    "        req_url = \"https://www.dhlottery.co.kr/common.do?method=getLottoNumber&drwNo=\" + str(drwNo) \n",
    "        req_lotto = requests.get(req_url) \n",
    "        lottoNo = req_lotto.json() \n",
    "        if lottoNo['returnValue'] == 'success': \n",
    "            val = (lottoNo['drwNo'], lottoNo['drwtNo1'], lottoNo['drwtNo2'], lottoNo['drwtNo3'], lottoNo['drwtNo4']\n",
    "                   , lottoNo['drwtNo5'], lottoNo['drwtNo6']\n",
    "                   , lottoNo['bnusNo'], lottoNo['totSellamnt'], lottoNo['firstAccumamnt']\n",
    "                   , lottoNo['firstPrzwnerCo'], lottoNo['firstWinamnt'], lottoNo['drwNoDate'])\n",
    "            helper.addSingleData(sql, val)\n",
    "        else: \n",
    "            global stop\n",
    "            stop = False\n",
    "\n",
    "stop = True\n",
    "\n",
    "i = 1\n",
    "while stop:\n",
    "  setLottoWinInfo(i)\n",
    "  i += 1\n",
    "\n",
    "helper.close()\n",
    "\n",
    "print('완료')"
   ]
  },
  {
   "cell_type": "code",
   "execution_count": 32,
   "metadata": {},
   "outputs": [],
   "source": [
    "setLottoWinInfo(2)"
   ]
  },
  {
   "cell_type": "code",
   "execution_count": 33,
   "metadata": {},
   "outputs": [],
   "source": [
    "if len(helper.getData(\"SELECT * FROM lotto_info WHERE drwNo = %s LIMIT 1;\", 2)) == 0:\n",
    "    req_url = \"https://www.dhlottery.co.kr/common.do?method=getLottoNumber&drwNo=\" + str(2) \n",
    "    req_lotto = requests.get(req_url) \n",
    "    lottoNo = req_lotto.json() \n",
    "    if lottoNo['returnValue'] == 'success': \n",
    "        print('a')\n",
    "    else:\n",
    "        print('b')"
   ]
  },
  {
   "cell_type": "code",
   "execution_count": null,
   "metadata": {},
   "outputs": [],
   "source": []
  }
 ],
 "metadata": {
  "kernelspec": {
   "display_name": "Python 3",
   "language": "python",
   "name": "python3"
  },
  "language_info": {
   "codemirror_mode": {
    "name": "ipython",
    "version": 3
   },
   "file_extension": ".py",
   "mimetype": "text/x-python",
   "name": "python",
   "nbconvert_exporter": "python",
   "pygments_lexer": "ipython3",
   "version": "3.8.5"
  }
 },
 "nbformat": 4,
 "nbformat_minor": 4
}
