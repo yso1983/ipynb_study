{
 "cells": [
  {
   "cell_type": "code",
   "execution_count": 48,
   "metadata": {},
   "outputs": [
    {
     "data": {
      "text/plain": [
       "array([36, 14, 25, 33, 12, 32])"
      ]
     },
     "execution_count": 48,
     "metadata": {},
     "output_type": "execute_result"
    }
   ],
   "source": [
    "import numpy as np\n",
    "\n",
    "np.random.randint(1, 46, size=6)"
   ]
  },
  {
   "cell_type": "code",
   "execution_count": 20,
   "metadata": {},
   "outputs": [
    {
     "data": {
      "text/plain": [
       "array([44, 31, 12, 13,  8, 18])"
      ]
     },
     "execution_count": 20,
     "metadata": {},
     "output_type": "execute_result"
    }
   ],
   "source": [
    "np.random.choice(np.arange(1, 46), 6, replace=False)"
   ]
  },
  {
   "cell_type": "code",
   "execution_count": 31,
   "metadata": {},
   "outputs": [],
   "source": [
    "# nbarray를 tuple로 전환\n",
    "bbb = tuple(np.sort(np.random.choice(np.arange(1, 46), 6, replace=False))) #numpy.ndarray"
   ]
  },
  {
   "cell_type": "code",
   "execution_count": 35,
   "metadata": {},
   "outputs": [
    {
     "name": "stdout",
     "output_type": "stream",
     "text": [
      "1\n"
     ]
    }
   ],
   "source": [
    "#tuple리스트에서 동일한 데이터 있는지 체크\n",
    "aaa = [(1, 5, 8, 28, 35, 36), (11, 13, 18, 23, 26, 37)]\n",
    "count = aaa.count(bbb) \n",
    "print(count)"
   ]
  },
  {
   "cell_type": "code",
   "execution_count": 46,
   "metadata": {
    "scrolled": true
   },
   "outputs": [
    {
     "name": "stdout",
     "output_type": "stream",
     "text": [
      "1 - (6, 15, 25, 37, 40, 45)\n",
      "2 - (4, 9, 15, 17, 25, 35)\n",
      "3 - (2, 6, 30, 31, 34, 42)\n",
      "4 - (6, 11, 13, 30, 40, 45)\n",
      "5 - (1, 10, 12, 29, 30, 43)\n"
     ]
    }
   ],
   "source": [
    "# parent 폴더 접근 경로 설정\n",
    "import os\n",
    "import sys\n",
    "nb_dir = os.path.split(os.getcwd())[0]\n",
    "if nb_dir not in sys.path:\n",
    "    sys.path.append(nb_dir)\n",
    "\n",
    "# .py 파일이 아닌 .ipynb 파일 접근하는 모듈\n",
    "import import_ipynb \n",
    "import time    \n",
    "\n",
    "# name 못찾을경우 pip3 uninstall pyzmq 후 재 설치 pip3 install pyzmq\n",
    "from mysqldb.mysqlhelper import *\n",
    "\n",
    "#DB 연결\n",
    "noList = dbhelper('127.0.0.1', 'yso1983', '123456', 'lotto').getData(\"SELECT drwtNo1,drwtNo2,drwtNo3,drwtNo4,drwtNo5,drwtNo6 FROM lotto_info;\")\n",
    "\n",
    "#5회 조회\n",
    "i = 0\n",
    "while i < 5:\n",
    "    rdVal = tuple(np.sort(np.random.choice(np.arange(1, 46), 6, replace=False)))\n",
    "    #기존 번호랑 중복 여부 체크\n",
    "    if(noList.count(rdVal) == 0):\n",
    "        print(i + 1, '-', rdVal)\n",
    "        i += 1\n",
    "    else:\n",
    "        print('중복', '-', rdVal)\n",
    "    time.sleep(0.1)\n",
    "\n"
   ]
  },
  {
   "cell_type": "code",
   "execution_count": null,
   "metadata": {},
   "outputs": [],
   "source": []
  }
 ],
 "metadata": {
  "kernelspec": {
   "display_name": "Python 3",
   "language": "python",
   "name": "python3"
  },
  "language_info": {
   "codemirror_mode": {
    "name": "ipython",
    "version": 3
   },
   "file_extension": ".py",
   "mimetype": "text/x-python",
   "name": "python",
   "nbconvert_exporter": "python",
   "pygments_lexer": "ipython3",
   "version": "3.8.5"
  }
 },
 "nbformat": 4,
 "nbformat_minor": 4
}
